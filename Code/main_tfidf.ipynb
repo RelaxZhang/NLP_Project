{
 "cells": [
  {
   "cell_type": "code",
   "execution_count": 1,
   "metadata": {},
   "outputs": [],
   "source": [
    "from sklearn.metrics.pairwise import cosine_similarity\n",
    "import numpy as np\n",
    "\n"
   ]
  },
  {
   "cell_type": "code",
   "execution_count": 2,
   "metadata": {},
   "outputs": [
    {
     "name": "stdout",
     "output_type": "stream",
     "text": [
      "not only is there no scientific evidence that co2 is a pollutant, higher co2 concentrations actually help ecosystems support more plant and animal life.\n",
      "At very high concentrations (100 times atmospheric concentration, or greater), carbon dioxide can be toxic to animal life, so raising the concentration to 10,000 ppm (1%) or higher for several hours will eliminate pests such as whiteflies and spider mites in a greenhouse.\n",
      "While ‘climate change’ can be due to natural forces or human activity, there is now substantial evidence to indicate that human activity – and specifically increased greenhouse gas (GHGs) emissions – is a key factor in the pace and extent of global temperature increases.\n"
     ]
    }
   ],
   "source": [
    "import json\n",
    "\n",
    "with open('../project-data/train-claims.json', 'r') as tclaim_file:\n",
    "    train_claim_data = json.load(tclaim_file)\n",
    "\n",
    "# Read in development data (claim)\n",
    "with open('../project-data/dev-claims.json', 'r') as dclaim_file:\n",
    "    dev_claim_data = json.load(dclaim_file)\n",
    "\n",
    "# Read in test data (claim)\n",
    "with open('../project-data/test-claims-unlabelled.json', 'r') as uclaim_file:\n",
    "    test_claim_data = json.load(uclaim_file)\n",
    "\n",
    "# Read in evidence data\n",
    "with open('../project-data/evidence.json', 'r') as evi_file:\n",
    "    evi_data = json.load(evi_file)\n",
    "    \n",
    "claim = train_claim_data['claim-1937']['claim_text']\n",
    "evidence_pos = evi_data[train_claim_data['claim-1937']['evidences'][0]]\n",
    "evidence_neg = evi_data[\"evidence-338219\"]\n",
    "print(claim.lower())\n",
    "print(evidence_pos)\n",
    "print(evidence_neg)\n",
    "\n",
    "\n"
   ]
  },
  {
   "cell_type": "code",
   "execution_count": 3,
   "metadata": {},
   "outputs": [
    {
     "name": "stdout",
     "output_type": "stream",
     "text": [
      "3121\n",
      "3121\n"
     ]
    }
   ],
   "source": [
    "#提取train用到了的evidence\n",
    "\n",
    "train_evi_id = []\n",
    "train_claim_id = []\n",
    "train_claim_text = []\n",
    "for claim_id,claim_value in train_claim_data.items():\n",
    "    train_evi_id=train_evi_id+claim_value['evidences']\n",
    "    train_claim_id.append(claim_id)\n",
    "    train_claim_text.append(claim_value['claim_text'].lower())\n",
    "    \n",
    "\n",
    "#去除重复\n",
    "train_evi_id = list(set(train_evi_id))\n",
    "print(len(train_evi_id))\n",
    "\n",
    "train_evi_text = []\n",
    "\n",
    "for id in train_evi_id:\n",
    "    train_evi_text.append(evi_data[id].lower())\n",
    "print(len(train_evi_text))"
   ]
  },
  {
   "cell_type": "code",
   "execution_count": 4,
   "metadata": {},
   "outputs": [
    {
     "name": "stdout",
     "output_type": "stream",
     "text": [
      "evidence-1\n"
     ]
    }
   ],
   "source": [
    "full_evidence_id = [ k for k,v in evi_data.items()]\n",
    "full_evidence_text  = [ v for k,v in evi_data.items()]\n",
    "\n",
    "print(full_evidence_id[1])"
   ]
  },
  {
   "cell_type": "code",
   "execution_count": 5,
   "metadata": {},
   "outputs": [],
   "source": [
    "import pandas as pd\n",
    "import sklearn as sk\n",
    "import numpy as np\n",
    "import re\n",
    "from sklearn.feature_extraction.text import CountVectorizer\n",
    "from sklearn.feature_extraction.text import TfidfVectorizer\n",
    "\n",
    "\n",
    "tfidf_vectorizer = TfidfVectorizer(stop_words=\"english\", use_idf=True)\n",
    "\n",
    "# tfidf_vec = tfidf_vectorizer.fit(train_claim_text+train_evi_text)\n",
    "tfidf_vec = tfidf_vectorizer.fit(train_claim_text+full_evidence_text)\n",
    "\n",
    "\n",
    "train_claim_emb_list = tfidf_vec.transform(train_claim_text)\n",
    "# train_evi_emb_list = tfidf_vec.transform(train_evi_text)\n",
    "\n",
    "full_evi_emb_list = tfidf_vec.transform(full_evidence_text)\n",
    "\n"
   ]
  },
  {
   "cell_type": "code",
   "execution_count": 14,
   "metadata": {},
   "outputs": [
    {
     "data": {
      "text/plain": [
       "(1208827, 605251)"
      ]
     },
     "execution_count": 14,
     "metadata": {},
     "output_type": "execute_result"
    }
   ],
   "source": [
    "full_evi_emb_list.shape"
   ]
  },
  {
   "cell_type": "code",
   "execution_count": 22,
   "metadata": {},
   "outputs": [],
   "source": [
    "# print(cosine_similarity(tfidf_vec.transform([claim]), tfidf_vec.transform(train_evi_text)))"
   ]
  },
  {
   "cell_type": "code",
   "execution_count": 11,
   "metadata": {},
   "outputs": [
    {
     "name": "stdout",
     "output_type": "stream",
     "text": [
      "{'claim-2967': {'claim_text': 'The contribution of waste heat to the global climate is 0.028 W/m2.', 'evidences': ['evidence-308923', 'evidence-188763'], 'claim_label': 'SUPPORTS'}, 'claim-979': {'claim_text': '“Warm weather worsened the most recent five-year drought, which included the driest four-year period on record in terms of statewide precipitation.', 'evidences': ['evidence-812998', 'evidence-937309'], 'claim_label': 'SUPPORTS'}, 'claim-1609': {'claim_text': 'Greenland has only lost a tiny fraction of its ice mass.', 'evidences': ['evidence-962481', 'evidence-1200633'], 'claim_label': 'SUPPORTS'}, 'claim-1020': {'claim_text': '“The global reef crisis does not necessarily mean extinction for coral species.', 'evidences': ['evidence-161852', 'evidence-394252'], 'claim_label': 'SUPPORTS'}, 'claim-2599': {'claim_text': 'Small amounts of very active substances can cause large effects.', 'evidences': ['evidence-834109', 'evidence-432221'], 'claim_label': 'SUPPORTS'}, 'claim-2110': {'claim_text': \"They changed the name from 'global warming' to 'climate change'\", 'evidences': ['evidence-59188', 'evidence-506409'], 'claim_label': 'SUPPORTS'}, 'claim-1135': {'claim_text': 'Scientists confirm a mass bleaching event on the Great Barrier Reef this year has killed more corals than ever before, with more than two thirds destroyed across large swathes of the biodiverse site.', 'evidences': ['evidence-688029', 'evidence-670186'], 'claim_label': 'SUPPORTS'}, 'claim-712': {'claim_text': '“Instead of a three-foot increase in ocean levels by the end of the century, six feet was more likely, according to DeConto and Pollard’s findings.', 'evidences': ['evidence-809369', 'evidence-822326'], 'claim_label': 'SUPPORTS'}, 'claim-1307': {'claim_text': 'a new study by scientists at the Australian Research Council finds that the ongoing bleaching event is mainly due to human-caused global warming, and that if global warming proceeds as currently expected, “large parts” of the Great Barrier Reef could die by the mid-2030s.', 'evidences': ['evidence-403673', 'evidence-1086865'], 'claim_label': 'SUPPORTS'}, 'claim-148': {'claim_text': 'Previous IPCC reports tended to assume that clouds would have a neutral impact because the warming and cooling feedbacks would cancel each other out.', 'evidences': ['evidence-64378', 'evidence-1060242'], 'claim_label': 'SUPPORTS'}, 'claim-903': {'claim_text': 'Growers regularly pump CO2 into greenhouses, raising levels to three times that of the natural environment, to produce stronger, greener, healthier plants.”', 'evidences': ['evidence-295594', 'evidence-668884'], 'claim_label': 'SUPPORTS'}, 'claim-2942': {'claim_text': 'It’s usually taken to be the fact that as carbon dioxide concentrations in the atmosphere increase, the 1 per cent of CO2 that’s the heavier carbon isotope ratio c13 declines in proportion.', 'evidences': ['evidence-946483', 'evidence-82903'], 'claim_label': 'SUPPORTS'}, 'claim-1001': {'claim_text': '‘This study goes beyond statistical correlations and explores a specific process that can plausibly explain how enhanced high-latitude warming trends may trigger remote weather impacts,’ he said.', 'evidences': ['evidence-895046', 'evidence-367687'], 'claim_label': 'SUPPORTS'}, 'claim-1034': {'claim_text': 'Your odds of correctly guessing the outcome of a flipped coin are 1 in 2, but your odds of guessing correctly twice in a row are only 1 in 4 —', 'evidences': ['evidence-893274', 'evidence-23786'], 'claim_label': 'SUPPORTS'}, 'claim-1009': {'claim_text': '‘Arctic ice conditions have been tracking at record low conditions since October, persisting for six consecutive months’', 'evidences': ['evidence-105873', 'evidence-849393'], 'claim_label': 'SUPPORTS'}, 'claim-770': {'claim_text': '[CO2] has increased 43 percent above the pre-industrial level so far', 'evidences': ['evidence-622225', 'evidence-1005062'], 'claim_label': 'SUPPORTS'}, 'claim-3074': {'claim_text': 'Fourth Assessment Report (AR4), in which the likely range is given as 2.0°C to 4.5°C, with a best estimate of 3.0°C\" (Pat Michaels)', 'evidences': ['evidence-526818', 'evidence-483878'], 'claim_label': 'SUPPORTS'}, 'claim-1761': {'claim_text': 'Multiple lines of evidence make it very clear that the rise in atmospheric CO2 is due to human emissions.', 'evidences': ['evidence-668884', 'evidence-889101'], 'claim_label': 'SUPPORTS'}, 'claim-1475': {'claim_text': \"More than 500 scientists and professionals in climate and related fields have sent a 'European Climate Declaration' to the Secretary-General of the United Nations.\", 'evidences': ['evidence-851854', 'evidence-322303'], 'claim_label': 'SUPPORTS'}, 'claim-477': {'claim_text': 'Scientists say halting deforestation ‘just as urgent’ as reducing emissions', 'evidences': ['evidence-1128272', 'evidence-425896'], 'claim_label': 'SUPPORTS'}, 'claim-1378': {'claim_text': 'Antarctica is gaining land-based ice, according to a new study by NASA scientists published in the Journal of Glaciology', 'evidences': ['evidence-529248', 'evidence-475376'], 'claim_label': 'SUPPORTS'}, 'claim-503': {'claim_text': '“During the sunless winter, a heatwave raised concerns that the polar vortex may be eroding.', 'evidences': ['evidence-7898', 'evidence-765547'], 'claim_label': 'SUPPORTS'}, 'claim-2751': {'claim_text': 'The argument that solving the global warming problem by reducing human greenhouse gas emissions is \"too hard\" generally stems from the belief that (i) our technology is not sufficiently advanced to achieve significant emissions reductions,', 'evidences': ['evidence-1144825', 'evidence-5044'], 'claim_label': 'SUPPORTS'}, 'claim-2575': {'claim_text': 'Over the last 30-40 years 80% of coral in the Caribbean have been destroyed and 50% in Indonesia and the Pacific.', 'evidences': ['evidence-243551', 'evidence-342232'], 'claim_label': 'SUPPORTS'}, 'claim-30': {'claim_text': \"the bushfires [in Australia] were caused by arsonists and a series of lightning strikes, not 'climate change'\", 'evidences': ['evidence-780092', 'evidence-968437'], 'claim_label': 'SUPPORTS'}, 'claim-2994': {'claim_text': \"'Mauna Loa has been producing a readout which supports Manning's predetermined goal by showing steady growth in atmospheric CO2 concentrations since 1959.\", 'evidences': ['evidence-685709', 'evidence-1121402'], 'claim_label': 'SUPPORTS'}, 'claim-55': {'claim_text': '[T]he raw data, the actual thermometer data[...] shows that the US has been cooling for 80 to 90 years.', 'evidences': ['evidence-396425', 'evidence-226306'], 'claim_label': 'SUPPORTS'}, 'claim-1271': {'claim_text': 'Greenland ice sheet … would balloon sea levels by around 7m should it disintegrate', 'evidences': ['evidence-1040612', 'evidence-676963'], 'claim_label': 'SUPPORTS'}, 'claim-2248': {'claim_text': 'Climate sensitivity can be calculated empirically by comparing past temperature change to natural forcings at the time.', 'evidences': ['evidence-494418', 'evidence-238585'], 'claim_label': 'SUPPORTS'}, 'claim-532': {'claim_text': 'Never mind that the emissions of carbon dioxide to make and maintain a wind or solar industrial complex are far greater than they will ever save.', 'evidences': ['evidence-837056', 'evidence-1091994'], 'claim_label': 'SUPPORTS'}, 'claim-556': {'claim_text': 'The April low temperatures here are now about 6 degrees Fahrenheit warmer than they used to be.', 'evidences': ['evidence-556196', 'evidence-1088556'], 'claim_label': 'SUPPORTS'}, 'claim-1173': {'claim_text': '[…]until we develop a practical, cost-competitive alternative to fossil fuels, it is unlikely that renewable energy will ever make up more than 15-20% of global energy requirements.', 'evidences': ['evidence-366836', 'evidence-489429'], 'claim_label': 'SUPPORTS'}, 'claim-539': {'claim_text': 'We note that the Earth has never in its history had a quasi-stable state that is around 2C warmer than the preindustrial and suggest that there is substantial risk that the system, itself, will ‘want’ to continue warming because of all of these other processes – even if we stop emissions,” she said.', 'evidences': ['evidence-953997', 'evidence-60990'], 'claim_label': 'SUPPORTS'}, 'claim-893': {'claim_text': 'While France and other G7 countries lamented the U.S. exit from the Paris climate accord, America’s air is already cleaner than that of any other country in the G7, except Canada with its scant population.', 'evidences': ['evidence-34493', 'evidence-162166'], 'claim_label': 'SUPPORTS'}, 'claim-2857': {'claim_text': 'Weather is chaotic because air is light, it has low friction and viscosity, it expands strongly when in contact with hot surfaces and it conducts heat poorly.', 'evidences': ['evidence-72528', 'evidence-907893'], 'claim_label': 'SUPPORTS'}, 'claim-109': {'claim_text': 'Local and regional sea levels continue to exhibit typical natural variability—in some places rising and in others falling.', 'evidences': ['evidence-93169', 'evidence-902893'], 'claim_label': 'SUPPORTS'}, 'claim-2476': {'claim_text': \"The global dimming trend reversed around 1990 - 15 years after the global warming trend began in the mid 1970's.\", 'evidences': ['evidence-513478', 'evidence-513415'], 'claim_label': 'SUPPORTS'}, 'claim-3038': {'claim_text': 'Clearly, other factors besides atmospheric carbon influence earth temperatures and global warming.\"', 'evidences': ['evidence-368794', 'evidence-403673'], 'claim_label': 'SUPPORTS'}, 'claim-3127': {'claim_text': '\"Skeptics hope that Postma’s alternative thermal model will lead  to the birth of a new climatology, one that actually follows the laws of  physics and properly physical modeling techniques...', 'evidences': ['evidence-107893', 'evidence-474588'], 'claim_label': 'SUPPORTS'}, 'claim-474': {'claim_text': 'Sea ice continued its declining trend, both in the Arctic and Antarctic.', 'evidences': ['evidence-360300', 'evidence-1172097'], 'claim_label': 'SUPPORTS'}, 'claim-2464': {'claim_text': 'While natural forcings can account for much of the early 20th Century warming, humans played a role as well.', 'evidences': ['evidence-8189', 'evidence-526112'], 'claim_label': 'SUPPORTS'}, 'claim-2427': {'claim_text': 'By that time CO2 emissions had already risen from the expanded use  of coal that had powered the industrial revolution, and emissions only  increased slowly from 3.5gigatonnes in 1910 to under 4gigatonnes by the  end of the Second World War.', 'evidences': ['evidence-329503', 'evidence-1023546'], 'claim_label': 'SUPPORTS'}, 'claim-2167': {'claim_text': 'Royal Society embraces skepticism', 'evidences': ['evidence-725190', 'evidence-373857'], 'claim_label': 'SUPPORTS'}, 'claim-812': {'claim_text': 'The human contribution can be up to 30 percent or so of the total rainfall coming out of the storm', 'evidences': ['evidence-390114', 'evidence-250928'], 'claim_label': 'SUPPORTS'}, 'claim-2590': {'claim_text': \"This argument originates from Angstrom's work in 1901.\", 'evidences': ['evidence-507814', 'evidence-652349'], 'claim_label': 'SUPPORTS'}, 'claim-404': {'claim_text': 'Actual weather records over the past 100 years show no correlation between rising carbon dioxide levels and local temperatures.', 'evidences': ['evidence-973268', 'evidence-1153298'], 'claim_label': 'SUPPORTS'}, 'claim-2977': {'claim_text': 'According to the study, as carbon levels have risen, the cold air at high altitudes over the tropics has actually grown colder.', 'evidences': ['evidence-427368', 'evidence-1106539'], 'claim_label': 'SUPPORTS'}, 'claim-2673': {'claim_text': 'They changed the name from “global warming” to “climate change” after the term global warming just wasn’t working (it was too cold)!', 'evidences': ['evidence-403673', 'evidence-260744'], 'claim_label': 'SUPPORTS'}, 'claim-2509': {'claim_text': 'In 1905, PDO switched to a warm phase.', 'evidences': ['evidence-667390', 'evidence-84969'], 'claim_label': 'SUPPORTS'}, 'claim-138': {'claim_text': 'As a result, half of the people surveyed around the world last year said they thought climate change would make humanity extinct.', 'evidences': ['evidence-1010541', 'evidence-72690'], 'claim_label': 'SUPPORTS'}, 'claim-952': {'claim_text': 'The Alaskan tundra is warming so quickly it has become a net emitter of carbon dioxide ahead of schedule, a new study finds', 'evidences': ['evidence-966395', 'evidence-855683'], 'claim_label': 'SUPPORTS'}, 'claim-1691': {'claim_text': 'Sea level rise is now increasing faster than predicted due to unexpectedly rapid ice melting.', 'evidences': ['evidence-435467', 'evidence-665226'], 'claim_label': 'SUPPORTS'}, 'claim-1741': {'claim_text': 'Volcanoes have had no warming effect in recent global warming - if anything, a cooling effect.', 'evidences': ['evidence-1082770', 'evidence-403673'], 'claim_label': 'SUPPORTS'}, 'claim-1202': {'claim_text': '\\xa0The discrepancy between model-predicted warming and (lower) real-world observations has inspired new respect for natural climate variability relative to greenhouse-gas forcing.\\xa0', 'evidences': ['evidence-1124041', 'evidence-124246'], 'claim_label': 'SUPPORTS'}, 'claim-1028': {'claim_text': 'A second coat of paint has much less of an effect, while adding a third or fourth coat has almost no impact at all.”', 'evidences': ['evidence-463539', 'evidence-644769'], 'claim_label': 'SUPPORTS'}, 'claim-28': {'claim_text': 'Volcanoes Melting West Antarctic Glaciers, Not Global Warming', 'evidences': ['evidence-1088478', 'evidence-894521'], 'claim_label': 'SUPPORTS'}, 'claim-275': {'claim_text': 'until temperature increases began to slow down after 1998 and remained relatively stable for a period of 15 years', 'evidences': ['evidence-426976', 'evidence-549462'], 'claim_label': 'SUPPORTS'}, 'claim-350': {'claim_text': 'Since 1965, more parts of the U.S. have seen a decrease in flooding than have seen an increase.', 'evidences': ['evidence-210522', 'evidence-318421'], 'claim_label': 'SUPPORTS'}, 'claim-2204': {'claim_text': 'All the indicators show that global warming is still happening.', 'evidences': ['evidence-403673', 'evidence-246003'], 'claim_label': 'SUPPORTS'}, 'claim-1604': {'claim_text': 'CO2 increase is natural, not human-caused.', 'evidences': ['evidence-668884', 'evidence-406857'], 'claim_label': 'SUPPORTS'}, 'claim-3119': {'claim_text': 'CO2 constitutes 80% of the non-condensing greenhouse gas forcing.', 'evidences': ['evidence-578065', 'evidence-668884'], 'claim_label': 'SUPPORTS'}, 'claim-2150': {'claim_text': 'Adapting to global warming is cheaper than preventing it', 'evidences': ['evidence-403673', 'evidence-497934'], 'claim_label': 'SUPPORTS'}, 'claim-21': {'claim_text': 'Sea level rise has been slow and a constant, pre-dating industrialization', 'evidences': ['evidence-988277', 'evidence-520022'], 'claim_label': 'SUPPORTS'}, 'claim-2013': {'claim_text': 'U.S. Sen. Ron Johnson voted to let oil and gas companies emit \"unlimited carbon pollution into our air\"', 'evidences': ['evidence-79549', 'evidence-384523'], 'claim_label': 'SUPPORTS'}, 'claim-467': {'claim_text': 'This is the South Pole ice, 90% of Earth’s ice, and it’s getting thicker.', 'evidences': ['evidence-1017204', 'evidence-634139'], 'claim_label': 'SUPPORTS'}, 'claim-2754': {'claim_text': '\"There are many urgent priorities that need the attention of Congress, and it is not for me as an invited guest in your country to say what they are.', 'evidences': ['evidence-451908', 'evidence-7424'], 'claim_label': 'SUPPORTS'}, 'claim-2797': {'claim_text': 'Global brightening is caused by changes in cloud cover, reflective aerosols and absorbing aerosols.', 'evidences': ['evidence-390174', 'evidence-1075691'], 'claim_label': 'SUPPORTS'}, 'claim-1771': {'claim_text': 'Peer-reviewed research, physics, and math all tell us that a grand solar minimum would have no more than a 0.3°C cooling effect, barely enough to put a dent in human-caused global warming.', 'evidences': ['evidence-899905', 'evidence-1086865'], 'claim_label': 'SUPPORTS'}, 'claim-1908': {'claim_text': 'In reality, gas produced by fracking is worse for the climate than coal.', 'evidences': ['evidence-1065464', 'evidence-590620'], 'claim_label': 'SUPPORTS'}, 'claim-2000': {'claim_text': 'There is not a single candidate in the Republican primary that thinks we should do anything about climate change.', 'evidences': ['evidence-72690', 'evidence-332299'], 'claim_label': 'SUPPORTS'}, 'claim-2084': {'claim_text': \"Hurricanes aren't linked to global warming\", 'evidences': ['evidence-403673', 'evidence-415989'], 'claim_label': 'SUPPORTS'}, 'claim-1237': {'claim_text': 'the last sea-level high point, … occurred between the last two ice ages, about 125,000 years ago.', 'evidences': ['evidence-810653', 'evidence-626101'], 'claim_label': 'SUPPORTS'}, 'claim-400': {'claim_text': 'The idea that climate change is producing heat records across the Earth is among the most egregious manipulations of data in the absurd global warming debate.', 'evidences': ['evidence-35625', 'evidence-59188'], 'claim_label': 'SUPPORTS'}, 'claim-1508': {'claim_text': 'global warming ceased around the end of the twentieth century and was followed (since 1997) by 19 years of stable temperature.', 'evidences': ['evidence-354405', 'evidence-403673'], 'claim_label': 'SUPPORTS'}, 'claim-520': {'claim_text': 'Just 1.25 per cent of the carbon dioxide in the atmosphere-ocean system has been released by \\xadhumans in the past 250 years.', 'evidences': ['evidence-946483', 'evidence-572332'], 'claim_label': 'SUPPORTS'}, 'claim-3064': {'claim_text': 'No warming since at least 1995, no melting glaciers and now no rising sea levels.', 'evidences': ['evidence-1088478', 'evidence-240414'], 'claim_label': 'SUPPORTS'}, 'claim-1588': {'claim_text': \"Melting ice isn't warming the Arctic.\", 'evidences': ['evidence-1030127', 'evidence-118577'], 'claim_label': 'SUPPORTS'}, 'claim-1488': {'claim_text': 'New Study Confirms EVs Considerably Worse For Climate Than Diesel Cars.', 'evidences': ['evidence-765914', 'evidence-254130'], 'claim_label': 'SUPPORTS'}, 'claim-2733': {'claim_text': 'A number of independent studies using near-global satellite data find positive feedback and high climate sensitivity.', 'evidences': ['evidence-1003105', 'evidence-1140942'], 'claim_label': 'SUPPORTS'}, 'claim-809': {'claim_text': 'In the early 20th century, state and federal governments began aggressively fighting wildfires and trying to keep them as small as possible.', 'evidences': ['evidence-572553', 'evidence-576285'], 'claim_label': 'SUPPORTS'}, 'claim-763': {'claim_text': 'And some plants – like algae which use carbon for photosynthesis – may even benefit.', 'evidences': ['evidence-199385', 'evidence-879668'], 'claim_label': 'SUPPORTS'}, 'claim-454': {'claim_text': 'Man-made greenhouse gases play only an insignificant role.”', 'evidences': ['evidence-868081', 'evidence-718133'], 'claim_label': 'SUPPORTS'}, 'claim-1853': {'claim_text': 'Barack Obama supports proposals \"to devote billions of dollars annually to state game and fish agencies and federal land management agencies to help them ensure that fish and wildlife survive the impacts of climate change.\"', 'evidences': ['evidence-123057', 'evidence-50257'], 'claim_label': 'SUPPORTS'}, 'claim-2838': {'claim_text': \"The data is being reported by the University of Illinois's Arctic Climate Research Center, and is derived from satellite observations of the Northern and Southern hemisphere polar regions (Daily Tech).\", 'evidences': ['evidence-118071', 'evidence-501093'], 'claim_label': 'SUPPORTS'}, 'claim-2028': {'claim_text': 'cutting speed limits could slow climate change', 'evidences': ['evidence-1006823', 'evidence-72690'], 'claim_label': 'SUPPORTS'}, 'claim-2434': {'claim_text': 'The IPCC blames human emissions of carbon dioxide for the last  warming.', 'evidences': ['evidence-874622', 'evidence-1091994'], 'claim_label': 'SUPPORTS'}, 'claim-298': {'claim_text': 'Only very few peer-reviewed papers even go so far as to say that recent warming is chiefly anthropogenic.', 'evidences': ['evidence-152784', 'evidence-1081778'], 'claim_label': 'SUPPORTS'}, 'claim-338': {'claim_text': 'Rapid assessment of average temperatures in France between 26-28 June showed a “substantial” increase in the likelihood of the heatwave happening as a result of human-caused global warming, experts at the World Weather Attribution group said.', 'evidences': ['evidence-196453', 'evidence-417371'], 'claim_label': 'SUPPORTS'}, 'claim-1672': {'claim_text': 'Global temperature is still rising and 2010 was the hottest recorded.', 'evidences': ['evidence-922640', 'evidence-627544'], 'claim_label': 'SUPPORTS'}, 'claim-2840': {'claim_text': 'Arctic sea ice is also falling at an accelerated rate.', 'evidences': ['evidence-559069', 'evidence-869213'], 'claim_label': 'SUPPORTS'}, 'claim-1425': {'claim_text': 'Each year sees the disappearance of thousands of plant and animal species which we will never know, which our children will never see, because they have been lost for ever.', 'evidences': ['evidence-1107475', 'evidence-661056'], 'claim_label': 'SUPPORTS'}, 'claim-1985': {'claim_text': 'The North Pole is melting \"a bit\" but the South Pole is getting bigger.', 'evidences': ['evidence-626530', 'evidence-472220'], 'claim_label': 'SUPPORTS'}, 'claim-1156': {'claim_text': 'The costs of emissions regulations, which will be paid by everyone, will be punishingly high and will provide no benefits to most people anywhere in the world.', 'evidences': ['evidence-638891', 'evidence-688820'], 'claim_label': 'SUPPORTS'}, 'claim-2870': {'claim_text': \"Ironically, it's those who are mispresenting Hulme's paper that are the ones being misleading.\", 'evidences': ['evidence-24420', 'evidence-883116'], 'claim_label': 'SUPPORTS'}, 'claim-2898': {'claim_text': 'The report suggests significantly smaller overall  ice-mass losses than previous estimates.', 'evidences': ['evidence-591671', 'evidence-1099128'], 'claim_label': 'SUPPORTS'}, 'claim-2329': {'claim_text': 'We know the Northwest Passage had been open before.\"', 'evidences': ['evidence-1107475', 'evidence-956029'], 'claim_label': 'SUPPORTS'}, 'claim-1998': {'claim_text': 'There is a link between climate change and the NSW bushfires.', 'evidences': ['evidence-772442', 'evidence-72690'], 'claim_label': 'SUPPORTS'}, 'claim-2209': {'claim_text': 'Surface temperatures can show short-term cooling when heat is exchanged between the atmosphere and the ocean, which has a much greater heat capacity than the air.', 'evidences': ['evidence-685129', 'evidence-1071249'], 'claim_label': 'SUPPORTS'}, 'claim-1582': {'claim_text': \"Tuvalu sea level isn't rising.\", 'evidences': ['evidence-136458', 'evidence-51367'], 'claim_label': 'SUPPORTS'}, 'claim-3072': {'claim_text': '\"a paper...in Science magazine concludes that the climate sensitivity—how much the earth’s average temperature will rise as a result of a doubling of the atmospheric concentration of carbon dioxide—likely (that is, with a 66% probability) lies in the range 1.7°C to 2.6°C, with a median value of 2.3°C.', 'evidences': ['evidence-1196020', 'evidence-223619'], 'claim_label': 'SUPPORTS'}, 'claim-381': {'claim_text': '[subsidies for wind and solar] add to emissions because coal-fired elec\\xadtricity needs to be on standby for when there is no wind or sunshine.', 'evidences': ['evidence-413007', 'evidence-644446'], 'claim_label': 'SUPPORTS'}, 'claim-398': {'claim_text': 'nothing we can do to stop the Earth’s naturally occurring climate cycles.', 'evidences': ['evidence-628328', 'evidence-927819'], 'claim_label': 'SUPPORTS'}, 'claim-1560': {'claim_text': 'Sea level rise predictions are exaggerated.', 'evidences': ['evidence-1076062', 'evidence-988277'], 'claim_label': 'SUPPORTS'}, 'claim-2246': {'claim_text': '\"His [Dr Spencer\\'s] latest research demonstrates that – in the short term, at any rate –  the temperature feedbacks that the IPCC imagines will greatly amplify  any initial warming caused by CO2 are net-negative, attenuating the  warming they are supposed to enhance.', 'evidences': ['evidence-448411', 'evidence-59539'], 'claim_label': 'SUPPORTS'}, 'claim-2774': {'claim_text': 'Actual reconstructions \"diverge\" from the instrumental series in the last part of 20th century.', 'evidences': ['evidence-802353', 'evidence-972542'], 'claim_label': 'SUPPORTS'}, 'claim-972': {'claim_text': '“Arctic land stores about twice as much carbon as the atmosphere.', 'evidences': ['evidence-248795', 'evidence-721883'], 'claim_label': 'SUPPORTS'}, 'claim-1531': {'claim_text': 'Earth’s climate is now changing faster than at any point in the history of modern civilization, primarily as a result of human activities.', 'evidences': ['evidence-756200', 'evidence-87345'], 'claim_label': 'SUPPORTS'}, 'claim-2592': {'claim_text': '\"A July 6, 2007 study published in the journal Science about Greenland by an international team of scientists found DNA “evidence that suggests the frozen shield covering the immense island survived the Earth’s last period of global warming,” according to a Boston Globe Article. \\xa0...', 'evidences': ['evidence-747315', 'evidence-430265'], 'claim_label': 'SUPPORTS'}, 'claim-2468': {'claim_text': '\"Satellite measurements indicate an absence of significant global warming since 1979, the very period that human carbon dioxide emissions have been increasing rapidly.', 'evidences': ['evidence-1091994', 'evidence-1117137'], 'claim_label': 'SUPPORTS'}, 'claim-463': {'claim_text': '“So now we’re able to explain from natural factors how we’ve had the 20th Century warming.', 'evidences': ['evidence-687009', 'evidence-616036'], 'claim_label': 'SUPPORTS'}, 'claim-616': {'claim_text': 'The effect of long-term warming is to make it harder to count on snowmelt runoff in wet times', 'evidences': ['evidence-276438', 'evidence-462231'], 'claim_label': 'SUPPORTS'}, 'claim-1240': {'claim_text': '“Ice-free means the central basin of the Arctic will be ice-free', 'evidences': ['evidence-111881', 'evidence-289800'], 'claim_label': 'SUPPORTS'}, 'claim-2951': {'claim_text': 'The two most cited composites are PMOD and ACRIM.', 'evidences': ['evidence-491726', 'evidence-894648'], 'claim_label': 'SUPPORTS'}, 'claim-1977': {'claim_text': 'The climate-change agreement between the United States and China \"requires the Chinese to do nothing at all for 16 years.\"', 'evidences': ['evidence-72690', 'evidence-108710'], 'claim_label': 'SUPPORTS'}, 'claim-942': {'claim_text': '‘We could be decades too fast, or decades too slow,’said one of them, Robert M. DeConto of the University of Massachusetts, Amherst.', 'evidences': ['evidence-210377', 'evidence-955188'], 'claim_label': 'SUPPORTS'}, 'claim-2755': {'claim_text': 'Global warming is an increasingly urgent problem.', 'evidences': ['evidence-403673', 'evidence-1117553'], 'claim_label': 'SUPPORTS'}, 'claim-1230': {'claim_text': 'On the Pacific Coast, a climate pattern that had pushed billions of gallons of water toward Asia is now ending, so that in coming decades the sea is likely to rise quickly off states like Oregon and California.', 'evidences': ['evidence-426828', 'evidence-97916'], 'claim_label': 'SUPPORTS'}, 'claim-3123': {'claim_text': 'Given that a doubling of carbon dioxide would change the surface heat flux by only two watts per square meter, it is evident that a small change in cloud cover can strongly affect the response to carbon dioxide.\"', 'evidences': ['evidence-725977', 'evidence-84444'], 'claim_label': 'SUPPORTS'}, 'claim-1684': {'claim_text': 'The 2nd law of thermodynamics is consistent with the greenhouse effect which is directly observed.', 'evidences': ['evidence-256785', 'evidence-818530'], 'claim_label': 'SUPPORTS'}, 'claim-839': {'claim_text': '“Even if we meet the Paris goals of two degrees warming, cities like Karachi and Kolkata will become close to uninhabitable, annually encountering deadly heat waves like those that crippled them in 2015.', 'evidences': ['evidence-895072', 'evidence-465562'], 'claim_label': 'SUPPORTS'}, 'claim-2423': {'claim_text': 'Arctic sea ice has been steadily thinning, even in the last few years while the surface ice (eg - sea ice extent) increased slightly.', 'evidences': ['evidence-869213', 'evidence-572376'], 'claim_label': 'SUPPORTS'}, 'claim-1243': {'claim_text': 'by that I mean the central Arctic will be ice-free.', 'evidences': ['evidence-111881', 'evidence-289800'], 'claim_label': 'SUPPORTS'}, 'claim-494': {'claim_text': 'The Massachusetts Bay Colony in 1635 experienced a Category 3 or 4 storm, with up to a 20-foot storm surge.', 'evidences': ['evidence-965474', 'evidence-1131498'], 'claim_label': 'SUPPORTS'}, 'claim-1458': {'claim_text': 'Glaciers are retreating almost everywhere around the world — including in the Alps, Himalayas, Andes, Rockies, Alaska and Africa.', 'evidences': ['evidence-603102', 'evidence-804960'], 'claim_label': 'SUPPORTS'}, 'claim-461': {'claim_text': 'Temperatures cooled from about 1940 to 1975, and then they rose from about ’75 to about 2005 or so, and since then they’ve been flat or cooling.', 'evidences': ['evidence-372475', 'evidence-1079843'], 'claim_label': 'SUPPORTS'}, 'claim-1304': {'claim_text': 'in a letter to The Times from Lord Krebs and company, essentially telling the newspaper to stop reporting less-than-negative climate stories.', 'evidences': ['evidence-717267', 'evidence-143773'], 'claim_label': 'SUPPORTS'}, 'claim-2564': {'claim_text': 'This small warming is  likely a result of the natural alterations in global ocean currents  which are driven by ocean salinity variations.', 'evidences': ['evidence-69697', 'evidence-1010647'], 'claim_label': 'SUPPORTS'}, 'claim-2121': {'claim_text': 'Infrared Iris will reduce global warming', 'evidences': ['evidence-403673', 'evidence-597452'], 'claim_label': 'SUPPORTS'}, 'claim-2631': {'claim_text': 'The temperatures are expected to change by as much as 10 Fahrenheit degrees at different places of the globe.', 'evidences': ['evidence-401833', 'evidence-1196923'], 'claim_label': 'SUPPORTS'}, 'claim-1141': {'claim_text': '“While record low sea ice is nothing new in the Arctic, this is a surprising turn of events for the Antarctic.', 'evidences': ['evidence-1143730', 'evidence-869213'], 'claim_label': 'SUPPORTS'}, 'claim-2398': {'claim_text': 'While there are direct ways in which CO2 is a pollutant (acidification of the ocean), its primary impact is its greenhouse warming effect.', 'evidences': ['evidence-1114203', 'evidence-871201'], 'claim_label': 'SUPPORTS'}, 'claim-1048': {'claim_text': 'While transient weather variability is playing a key role here, the widespread record warmth across the U.S. so far this year is part of a long-term trend toward more warm temperature records versus cold ones.', 'evidences': ['evidence-508793', 'evidence-735431'], 'claim_label': 'SUPPORTS'}, 'claim-2783': {'claim_text': 'The study indicates far less future global warming will occur than United Nations computer models have predicted, and supports prior studies indicating increases in atmospheric carbon dioxide trap far less heat than alarmists have claimed.', 'evidences': ['evidence-199323', 'evidence-617501'], 'claim_label': 'SUPPORTS'}, 'claim-1003': {'claim_text': 'A recent study in Nature Geoscience, for instance, called into question whether the Arctic’s melting, and in particular its sea ice loss, has been causing winter cooling over Eurasia, another idea that has been swept up in the debate over the jet stream and weather extremes.”', 'evidences': ['evidence-290051', 'evidence-903119'], 'claim_label': 'SUPPORTS'}, 'claim-1872': {'claim_text': 'Donald Trump claims Global Warming is a hoax', 'evidences': ['evidence-580136', 'evidence-312748'], 'claim_label': 'SUPPORTS'}, 'claim-1842': {'claim_text': 'A video shows Koko the gorilla spontaneously using sign language to issue a warning about climate change.', 'evidences': ['evidence-570779', 'evidence-47367'], 'claim_label': 'SUPPORTS'}, 'claim-2411': {'claim_text': 'Note that computer models are just concatenations of calculations you could do on a hand-held calculator, so they are theoretical and cannot be part of any evidence.\"', 'evidences': ['evidence-128316', 'evidence-392894'], 'claim_label': 'SUPPORTS'}, 'claim-2428': {'claim_text': 'It was the post war  industrialization that caused the rapid rise in global CO2 emissions,  but by 1945 when this began, the Earth was already in a cooling phase  that started around 1942 and continued until 1975.', 'evidences': ['evidence-692521', 'evidence-668884'], 'claim_label': 'SUPPORTS'}, 'claim-1198': {'claim_text': '” ‘You see, gas in America is incredibly cheap, because of fracking,’ he says.', 'evidences': ['evidence-658428', 'evidence-1087125'], 'claim_label': 'SUPPORTS'}, 'claim-678': {'claim_text': 'In the process, the cows will emit much greenhouse gas, and they will consume far more calories in beans than they will yield in meat, meaning far more clearcutting of forests to farm cattle feed than would be necessary if the beans above were simply eaten by people.”', 'evidences': ['evidence-2791', 'evidence-143188'], 'claim_label': 'SUPPORTS'}, 'claim-2105': {'claim_text': 'Excess CO2 from human emissions has a long residence time of over 100 years', 'evidences': ['evidence-668884', 'evidence-272735'], 'claim_label': 'SUPPORTS'}, 'claim-648': {'claim_text': '‘there will not be enough nitrogen available to sustain the high carbon uptake scenarios.’', 'evidences': ['evidence-881728', 'evidence-14006'], 'claim_label': 'SUPPORTS'}, 'claim-822': {'claim_text': 'Climate policy must compete with other long-term threats for always-scarce resources.”', 'evidences': ['evidence-190133', 'evidence-387721'], 'claim_label': 'SUPPORTS'}, 'claim-2561': {'claim_text': 'Observed sea levels are actually tracking at the upper range of the IPCC projections.', 'evidences': ['evidence-387450', 'evidence-1164059'], 'claim_label': 'SUPPORTS'}, 'claim-2219': {'claim_text': 'The increase in temperatures since 1975 is a consistent feature of all reconstructions.', 'evidences': ['evidence-927146', 'evidence-949961'], 'claim_label': 'SUPPORTS'}, 'claim-1343': {'claim_text': 'roughly three-quarters of the tidal flood days now occurring in towns along the East Coast would not be happening in the absence of the rise in the sea level caused by human emissions.', 'evidences': ['evidence-528349', 'evidence-664385'], 'claim_label': 'SUPPORTS'}, 'claim-1351': {'claim_text': 'a marginally significant warming trend in the data over the past several years, erasing the temperature plateau that vexed climate alarmists have found difficult to explain.', 'evidences': ['evidence-1174955', 'evidence-494851'], 'claim_label': 'SUPPORTS'}, 'claim-2347': {'claim_text': 'In truth, the overwhelming majority of climate-research funding comes from the federal government and left-wing foundations.', 'evidences': ['evidence-260640', 'evidence-727479'], 'claim_label': 'SUPPORTS'}, 'claim-293': {'claim_text': 'When the measuring equipment gets old and needs replacing, it often requires re-calibration.', 'evidences': ['evidence-166447', 'evidence-737002'], 'claim_label': 'SUPPORTS'}, 'claim-910': {'claim_text': 'The cement, iron and steel, and petroleum refining industries could see their production cut by 21% 19%, and 11% respectively.”', 'evidences': ['evidence-197221', 'evidence-117114'], 'claim_label': 'SUPPORTS'}, 'claim-2815': {'claim_text': 'A new peer-reviewed study on Surface Warming and the Solar Cycle found that times of high solar activity are on average 0.2°C warmer than times of low solar activity, and that there is a polar amplification of the warming.', 'evidences': ['evidence-786294', 'evidence-700183'], 'claim_label': 'SUPPORTS'}, 'claim-1652': {'claim_text': 'The strong CO2 effect has been observed by many different measurements.', 'evidences': ['evidence-668884', 'evidence-1652'], 'claim_label': 'SUPPORTS'}, 'claim-1212': {'claim_text': '(In technical lingo, the so-called social cost of carbon would be negative.)”', 'evidences': ['evidence-594802', 'evidence-162296'], 'claim_label': 'SUPPORTS'}}\n"
     ]
    }
   ],
   "source": [
    "# test_claim_text = []\n",
    "k = 2\n",
    "\n",
    "\n",
    "# with open('../project-data/test-claims-unlabelled.json', 'r') as dclaim_file:\n",
    "#     test_out_temp = json.load(dclaim_file)\n",
    "\n",
    "for claim_id,claim_value in test_claim_data.items():\n",
    "    # train_evi_id=train_evi_id+claim_value['evidences']\n",
    "    # train_claim_id.append(claim_id)\n",
    "    test_claim_text = claim_value['claim_text']\n",
    "    test_claim_emb = tfidf_vec.transform([test_claim_text])\n",
    "    evi_sim_dict = {}\n",
    "    sim = cosine_similarity(test_claim_emb, full_evi_emb_list)[0]\n",
    "    \n",
    "    for i in range(len(sim)):\n",
    "        evi_sim_dict[full_evidence_id[i]] = sim[i]\n",
    "    \n",
    "    s_sim = [(k, v) for k, v in sorted(evi_sim_dict.items(), key=lambda item: item[1],reverse=True)][:k]\n",
    "    # print(s_sim)\n",
    "    sel_sim = [k for k,v in s_sim]\n",
    "    # print(sel_sim)\n",
    "    test_claim_data[claim_id][\"evidences\"] = sel_sim\n",
    "    test_claim_data[claim_id][\"claim_label\"] = \"SUPPORTS\"\n",
    "    \n",
    "    # test_claim_data['claim_label']\n",
    "\n",
    "\n",
    "print(test_claim_data)\n",
    "# for i in range(len(dev_claim_id)):\n",
    "#     claim_embedding = get_embedding(dev_claim_text[i])[0]\n",
    "#     best3 = get_best_3_evi(claim_embedding)\n",
    "#     e_list= [id for (id, score) in best3]\n",
    "#     out_temp_dev[dev_claim_id[i]][\"evidences\"] = e_list\n",
    "\n",
    "json_object = json.dumps(test_out_temp, indent=4)\n",
    " \n",
    "# Writing to sample.json\n",
    "# with open(\"../project-data/dev_predict.json\", \"w\") as outfile:\n",
    "#     outfile.write(json_object)"
   ]
  },
  {
   "cell_type": "code",
   "execution_count": 13,
   "metadata": {},
   "outputs": [],
   "source": [
    "file_path = '../test-claims-predictions.json'\n",
    "with open(file_path, 'w') as json_file:\n",
    "    json.dump(test_claim_data, json_file)"
   ]
  },
  {
   "cell_type": "code",
   "execution_count": null,
   "metadata": {},
   "outputs": [],
   "source": []
  }
 ],
 "metadata": {
  "kernelspec": {
   "display_name": "nlp",
   "language": "python",
   "name": "python3"
  },
  "language_info": {
   "codemirror_mode": {
    "name": "ipython",
    "version": 3
   },
   "file_extension": ".py",
   "mimetype": "text/x-python",
   "name": "python",
   "nbconvert_exporter": "python",
   "pygments_lexer": "ipython3",
   "version": "3.9.16"
  },
  "orig_nbformat": 4
 },
 "nbformat": 4,
 "nbformat_minor": 2
}
