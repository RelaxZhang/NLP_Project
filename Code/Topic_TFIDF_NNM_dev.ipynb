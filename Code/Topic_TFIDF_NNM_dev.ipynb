{
 "cells": [
  {
   "cell_type": "code",
   "execution_count": 19,
   "metadata": {},
   "outputs": [],
   "source": [
    "import json\n",
    "import nltk\n",
    "import random\n",
    "import numpy as np\n",
    "from collections import Counter\n",
    "from nltk.tokenize import word_tokenize\n",
    "from sklearn.metrics.pairwise import cosine_similarity\n",
    "from sklearn.feature_extraction.text import TfidfVectorizer\n",
    "from nlp_function import pick_random_keys, stopwords_func, lower_processing, most_frequent_element"
   ]
  },
  {
   "attachments": {},
   "cell_type": "markdown",
   "metadata": {},
   "source": [
    "## Task 1"
   ]
  },
  {
   "cell_type": "code",
   "execution_count": null,
   "metadata": {},
   "outputs": [],
   "source": [
    "## Read in data\n",
    "# Read in training data (claim)\n",
    "with open('../project-data/train-claims.json', 'r') as tclaim_file:\n",
    "    tclaim_data = json.load(tclaim_file)\n",
    "\n",
    "# Read in development data (claim)\n",
    "with open('../project-data/dev-claims.json', 'r') as dclaim_file:\n",
    "    dclaim_data = json.load(dclaim_file)\n",
    "\n",
    "# Read in test data (claim)\n",
    "with open('../project-data/test-claims-unlabelled.json', 'r') as uclaim_file:\n",
    "    uclaim_data = json.load(uclaim_file)\n",
    "\n",
    "# Read in evidence data\n",
    "with open('../project-data/evidence.json', 'r') as evi_file:\n",
    "    evi_data = json.load(evi_file)\n",
    "\n",
    "## Preprocessing - Lowercase operation of the case\n",
    "tclaim_data = lower_processing(tclaim_data, \"claim_text\")\n",
    "dclaim_data = lower_processing(dclaim_data, \"claim_text\")\n",
    "uclaim_data = lower_processing(uclaim_data, \"claim_text\")\n",
    "evi_data = lower_processing(evi_data, 'evidence')\n",
    "\n",
    "# ## Remove stopwords from claims and evidence (optional)\n",
    "# stop_words = set(stopwords.words('english'))\n",
    "# tclaim_data = stopwords_func(stop_words, \"claim\", tclaim_data)\n",
    "# dclaim_data = stopwords_func(stop_words, \"claim\", dclaim_data)\n",
    "# uclaim_data = stopwords_func(stop_words, \"claim\", uclaim_data)\n",
    "# evi_data = stopwords_func(stop_words, \"evidence\", evi_data)\n",
    "\n",
    "## Create claim-evidence pair based on training set\n",
    "tkey_list = list(tclaim_data.keys())\n",
    "train_pairs = []\n",
    "evi_keys = []\n",
    "labels = []\n",
    "for i in tclaim_data:\n",
    "    for j in tclaim_data[i][\"evidences\"]:\n",
    "        evi_keys.append(j)\n",
    "        train_pairs.append((i, tclaim_data[i][\"claim_text\"], evi_data[j], j))\n",
    "        labels.append(1)\n",
    "  \n",
    "## insert negative sample to the training set\n",
    "random.seed(1)\n",
    "for i in tclaim_data:\n",
    "    excluded_keys = tclaim_data[i][\"evidences\"]\n",
    "    random_keys = pick_random_keys(evi_data, excluded_keys, len(excluded_keys))\n",
    "    for j in random_keys:\n",
    "        evi_keys.append(j)\n",
    "        train_pairs.append((i, tclaim_data[i][\"claim_text\"], evi_data[j], j))\n",
    "        labels.append(0)"
   ]
  },
  {
   "cell_type": "code",
   "execution_count": null,
   "metadata": {},
   "outputs": [],
   "source": [
    "# Store the claim, evidence sentence(s) to list for embedded usage\n",
    "claim_train_sentence = []\n",
    "claim_dep_sentence = []\n",
    "claim_test_sentence = []\n",
    "evidence_full_sentence = []\n",
    "evidence_sample_sentence = []\n",
    "\n",
    "for i in tclaim_data.values():\n",
    "    claim_train_sentence.append(i[\"claim_text\"])\n",
    "for i in dclaim_data.values():\n",
    "    claim_dep_sentence.append(i[\"claim_text\"])\n",
    "for i in uclaim_data.values():\n",
    "    claim_test_sentence.append(i[\"claim_text\"])\n",
    "for i in evi_data.values():\n",
    "    evidence_full_sentence.append(i)\n",
    "tfidf_keys = []\n",
    "for i in train_pairs[:int(len(train_pairs)/2)]:\n",
    "  evidence_sample_sentence.append(i[2])\n",
    "  tfidf_keys.append(i[3])"
   ]
  },
  {
   "cell_type": "code",
   "execution_count": 11,
   "metadata": {},
   "outputs": [
    {
     "name": "stderr",
     "output_type": "stream",
     "text": [
      "[nltk_data] Downloading package punkt to /Users/relax/nltk_data...\n",
      "[nltk_data]   Package punkt is already up-to-date!\n",
      "[nltk_data] Downloading package stopwords to /Users/relax/nltk_data...\n",
      "[nltk_data]   Package stopwords is already up-to-date!\n"
     ]
    }
   ],
   "source": [
    "# Topic Collection Step\n",
    "nltk.download('punkt')\n",
    "nltk.download('stopwords')\n",
    "from nltk.corpus import stopwords\n",
    "\n",
    "# Keywords Selection\n",
    "# Sample Evidence list of sentences\n",
    "sentences = evidence_sample_sentence\n",
    "\n",
    "# Tokenize sentences\n",
    "tokenized_sentences = [word_tokenize(sentence) for sentence in sentences]\n",
    "\n",
    "# Remove stopword from the tokenized sentences\n",
    "# Remove non-pure-alphabet word from the tokenized sentences\n",
    "stop_words = set(stopwords.words('english'))\n",
    "for i in range(len(tokenized_sentences)):\n",
    "    tokenized_sentences[i] = [word for word in tokenized_sentences[i] if word not in stop_words]\n",
    "    tokenized_sentences[i] = [word for word in tokenized_sentences[i] if word.isalpha()]\n",
    "tokenized_sentences_flat = [item for sublist in tokenized_sentences for item in sublist]\n",
    "tokenized_sentences_flat = [x for x in tokenized_sentences_flat if len(x) > 2]\n",
    "word_freq = Counter(tokenized_sentences_flat)\n",
    "\n",
    "for num in range(1, 6):\n",
    "    top_words = word_freq.most_common(20)\n",
    "    topic_words = []\n",
    "    for word, freq in top_words:\n",
    "        topic_words.append(word)\n",
    "\n",
    "    # Serach the full evidence set to find sentence that contains the topic word(s)\n",
    "    topic_evidence_sentence = []\n",
    "    topic_evidence_index = []\n",
    "    for i in range(len(evidence_full_sentence)):\n",
    "        token_evi = word_tokenize(evidence_full_sentence[i])\n",
    "        for j in topic_words:\n",
    "            if j in token_evi:\n",
    "                topic_evidence_sentence.append(evidence_full_sentence[i])\n",
    "                topic_evidence_index.append(i)\n",
    "                break\n",
    "    full_evidence_id = [k for k, v in evi_data.items()]\n",
    "    topic_evidence_id = [full_evidence_id[i] for i in topic_evidence_index]\n",
    "\n",
    "    # Initialize TF-IDF vectorizer\n",
    "    tfidf_vectorizer = TfidfVectorizer()\n",
    "\n",
    "    # Fit the vectorizer on the training data\n",
    "    tfidf_vectorizer.fit(claim_train_sentence + claim_dep_sentence + topic_evidence_sentence)\n",
    "\n",
    "    # Transform the training and test data using the trained vectorizer\n",
    "    evi_embeddings = tfidf_vectorizer.transform(topic_evidence_sentence)\n",
    "\n",
    "    full_evidence_id = [k for k, v in evi_data.items()]\n",
    "\n",
    "    for claim_id,claim_value in dclaim_data.items():\n",
    "        test_claim_text = claim_value['claim_text']\n",
    "        test_claim_emb = tfidf_vectorizer.transform([test_claim_text])\n",
    "        evi_sim_dict = {}\n",
    "        sim = cosine_similarity(test_claim_emb, evi_embeddings)[0]\n",
    "        \n",
    "        for i in range(len(sim)):\n",
    "            evi_sim_dict[topic_evidence_id[i]] = sim[i]\n",
    "\n",
    "        s_sim = [(k, v) for k, v in sorted(evi_sim_dict.items(), key=lambda item: item[1],reverse=True)][:num]\n",
    "        sel_sim = [k for k,v in s_sim]\n",
    "        dclaim_data[claim_id][\"evidences\"] = sel_sim\n",
    "\n",
    "    # Save the test set result\n",
    "    file_path = '../Performance/dev_topic/dev-claims-test_knn_' + str(num) + '.json'\n",
    "    with open(file_path, 'w') as json_file:\n",
    "        json.dump(dclaim_data, json_file)"
   ]
  },
  {
   "cell_type": "code",
   "execution_count": null,
   "metadata": {},
   "outputs": [],
   "source": [
    "# Initialize TF-IDF vectorizer\n",
    "tfidf_vectorizer = TfidfVectorizer()\n",
    "\n",
    "# Fit the vectorizer on the training data\n",
    "tfidf_vectorizer.fit(claim_train_sentence + claim_dep_sentence + topic_evidence_sentence)\n",
    "\n",
    "# Transform the training and test data using the trained vectorizer\n",
    "train_embeddings = tfidf_vectorizer.transform(claim_train_sentence)\n",
    "evi_embeddings = tfidf_vectorizer.transform(topic_evidence_sentence)\n",
    "test_embeddings = tfidf_vectorizer.transform(claim_test_sentence)\n",
    "dev_embeddings = tfidf_vectorizer.transform(claim_dep_sentence)"
   ]
  },
  {
   "cell_type": "code",
   "execution_count": null,
   "metadata": {},
   "outputs": [],
   "source": [
    "k = 1 # Current Optimal Performance\n",
    "full_evidence_id = [k for k, v in evi_data.items()]\n",
    "\n",
    "for claim_id,claim_value in uclaim_data.items():\n",
    "    test_claim_text = claim_value['claim_text']\n",
    "    test_claim_emb = tfidf_vectorizer.transform([test_claim_text])\n",
    "    evi_sim_dict = {}\n",
    "    sim = cosine_similarity(test_claim_emb, evi_embeddings)[0]\n",
    "    \n",
    "    for i in range(len(sim)):\n",
    "        evi_sim_dict[topic_evidence_id[i]] = sim[i]\n",
    "\n",
    "    s_sim = [(k, v) for k, v in sorted(evi_sim_dict.items(), key=lambda item: item[1],reverse=True)][:k]\n",
    "    sel_sim = [k for k,v in s_sim]\n",
    "    uclaim_data[claim_id][\"evidences\"] = sel_sim\n",
    "\n",
    "# Save the test set result\n",
    "file_path = '../Performance/test-claims-predictions.json'\n",
    "with open(file_path, 'w') as json_file:\n",
    "    json.dump(uclaim_data, json_file)"
   ]
  },
  {
   "attachments": {},
   "cell_type": "markdown",
   "metadata": {},
   "source": [
    "## Task 2"
   ]
  },
  {
   "cell_type": "code",
   "execution_count": 6,
   "metadata": {},
   "outputs": [],
   "source": [
    "# Training data\n",
    "train_data = claim_train_sentence + claim_dep_sentence\n",
    "\n",
    "# Test data\n",
    "test_data = claim_test_sentence\n",
    "\n",
    "# Initialize TF-IDF vectorizer\n",
    "tfidf_vectorizer = TfidfVectorizer()\n",
    "\n",
    "# Fit the vectorizer on the training data\n",
    "tfidf_vectorizer.fit(train_data)\n",
    "\n",
    "# Transform the training and test data using the trained vectorizer\n",
    "train_embeddings = tfidf_vectorizer.transform(train_data).toarray()\n",
    "test_embeddings = tfidf_vectorizer.transform(test_data).toarray()\n",
    "\n",
    "# Create training and test np.ndarray\n",
    "train_np = train_embeddings[:len(claim_train_sentence)]\n",
    "test_np = test_embeddings"
   ]
  },
  {
   "cell_type": "code",
   "execution_count": 7,
   "metadata": {},
   "outputs": [],
   "source": [
    "# Collect similarity value for mojority voting operation\n",
    "label_list = []\n",
    "for i in test_np:\n",
    "    similarity = []\n",
    "    for j in train_np:\n",
    "        similarity.append(cosine_similarity(np.reshape(i, (1, -1)), np.reshape(j, (1, -1)))[0][0])\n",
    "    top_index = np.argsort(similarity)[-11:]\n",
    "    label_list.append(list(top_index))\n",
    "\n",
    "with open('../Performance/test-claims-predictions.json', 'r') as final_json:\n",
    "    final_test = json.load(final_json)\n",
    "\n",
    "# Obtain the most frequent label from the closest claim(s)\n",
    "potential_label_list = []\n",
    "train_key_list = list(tclaim_data.keys())\n",
    "test_key_list = list(final_test.keys())\n",
    "for i in range(len(label_list)):\n",
    "    label_list_potential = []\n",
    "    for j in label_list[i]:\n",
    "        label_list_potential.append(tclaim_data[train_key_list[j]][\"claim_label\"])\n",
    "    potential_label_list.append(label_list_potential)\n",
    "    test_class = most_frequent_element(label_list_potential)\n",
    "    final_test[test_key_list[i]][\"claim_label\"] = test_class\n",
    "\n",
    "# Store to json\n",
    "file_path = '../Performance/test-claims-predictions.json'\n",
    "with open(file_path, 'w') as json_file:\n",
    "    json.dump(final_test, json_file)"
   ]
  },
  {
   "attachments": {},
   "cell_type": "markdown",
   "metadata": {},
   "source": [
    "## Obtain Plot of Topic-Num vs. F-Score"
   ]
  },
  {
   "cell_type": "code",
   "execution_count": 17,
   "metadata": {},
   "outputs": [
    {
     "data": {
      "image/png": "[encoded data removed]",
      "text/plain": [
       "<Figure size 640x480 with 1 Axes>"
      ]
     },
     "metadata": {},
     "output_type": "display_data"
    }
   ],
   "source": [
    "import matplotlib.pyplot as plt\n",
    "\n",
    "dev_tfidf_topic_f = [0.048191094619666044, 0.07071737786023499, 0.07094928880643167, 0.0699752628324057, 0.07736549165120594, 0.07574211502782932, 0.07898886827458257, 0.07648423005565863, 0.08166357452071737, 0.0760204081632653, 0.07537105751391467, 0.07537105751391467, 0.08121521335807051, 0.0786178107606679, 0.08727581941867656, 0.08727581941867656, 0.08727581941867656, 0.08987322201607917, 0.08987322201607917, 0.08565244279529993, 0.08565244279529993, 0.08402906617192331, 0.08727581941867657, 0.08998144712430427, 0.08835807050092764, 0.08738404452690167, 0.08738404452690167, 0.08576066790352505, 0.08576066790352505, 0.08738404452690167]\n",
    "topic_num  = list(range(1, 31))\n",
    "\n",
    "# Example data\n",
    "x = topic_num\n",
    "y = dev_tfidf_topic_f\n",
    "\n",
    "# Create a line plot\n",
    "plt.plot(x, y)\n",
    "\n",
    "# Set the title and axis labels\n",
    "plt.xlabel('Number of Topic(s)')\n",
    "plt.ylabel('F-Score')\n",
    "\n",
    "# Display the plot\n",
    "plt.show()"
   ]
  },
  {
   "cell_type": "code",
   "execution_count": 18,
   "metadata": {},
   "outputs": [
    {
     "data": {
      "image/png": "[encoded data removed]",
      "text/plain": [
       "<Figure size 640x480 with 1 Axes>"
      ]
     },
     "metadata": {},
     "output_type": "display_data"
    }
   ],
   "source": [
    "import matplotlib.pyplot as plt\n",
    "\n",
    "dev_tfidf_topic_f = [0.08787878787878788, 0.09010513296227582, 0.08565244279529993, 0.08596165739022882, 0.07989589775304062]\n",
    "topic_num  = list(range(1, 6))\n",
    "\n",
    "# Example data\n",
    "x = topic_num\n",
    "y = dev_tfidf_topic_f\n",
    "\n",
    "# Create a line plot\n",
    "plt.plot(x, y)\n",
    "\n",
    "# Set the title and axis labels\n",
    "plt.xlabel('Number of Neighbour(s) k')\n",
    "plt.ylabel('F-Score')\n",
    "\n",
    "# Display the plot\n",
    "plt.show()"
   ]
  }
 ],
 "metadata": {
  "kernelspec": {
   "display_name": "base",
   "language": "python",
   "name": "python3"
  },
  "language_info": {
   "codemirror_mode": {
    "name": "ipython",
    "version": 3
   },
   "file_extension": ".py",
   "mimetype": "text/x-python",
   "name": "python",
   "nbconvert_exporter": "python",
   "pygments_lexer": "ipython3",
   "version": "3.9.16"
  },
  "orig_nbformat": 4
 },
 "nbformat": 4,
 "nbformat_minor": 2
}
